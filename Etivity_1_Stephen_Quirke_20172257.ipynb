{
  "nbformat": 4,
  "nbformat_minor": 0,
  "metadata": {
    "colab": {
      "name": "Etivity_1_Stephen_Quirke_20172257.ipynb",
      "provenance": [],
      "collapsed_sections": [],
      "include_colab_link": true
    },
    "kernelspec": {
      "display_name": "Python 3",
      "name": "python3"
    },
    "language_info": {
      "name": "python"
    }
  },
  "cells": [
    {
      "cell_type": "markdown",
      "metadata": {
        "id": "view-in-github",
        "colab_type": "text"
      },
      "source": [
        "<a href=\"https://colab.research.google.com/github/squirke1/ET5003/blob/main/Etivity_1_Stephen_Quirke_20172257.ipynb\" target=\"_parent\"><img src=\"https://colab.research.google.com/assets/colab-badge.svg\" alt=\"Open In Colab\"/></a>"
      ]
    },
    {
      "cell_type": "markdown",
      "metadata": {
        "id": "jxK1_8f1dvrc"
      },
      "source": [
        "<div>\n",
        "<img src=\"https://drive.google.com/uc?export=view&id=1vK33e_EqaHgBHcbRV_m38hx6IkG0blK_\" width=\"350\"/>\n",
        "</div> \n",
        "\n",
        "#**Artificial Intelligence - MSc**\n",
        "ET5003 - MACHINE LEARNING APPLICATIONS \n",
        "\n",
        "###Instructor: Enrique Naredo\n",
        "###ET5003_Etivity-1"
      ]
    },
    {
      "cell_type": "code",
      "metadata": {
        "cellView": "form",
        "id": "LqXD_IwUQuBF"
      },
      "source": [
        "#@title Current Date\n",
        "Today = '2021-09-19' #@param {type:\"date\"}\n"
      ],
      "execution_count": 2,
      "outputs": []
    },
    {
      "cell_type": "code",
      "metadata": {
        "cellView": "form",
        "id": "uzDKau31OjVO"
      },
      "source": [
        "#@markdown ---\n",
        "#@markdown ### Enter your details here:\n",
        "Student_ID = \"20172257\" #@param {type:\"string\"}\n",
        "Student_full_name = \"Stephen Quirke\" #@param {type:\"string\"}\n",
        "#@markdown ---"
      ],
      "execution_count": 3,
      "outputs": []
    },
    {
      "cell_type": "code",
      "metadata": {
        "id": "r39xGZckTpKx",
        "cellView": "form"
      },
      "source": [
        "#@title Notebook information\n",
        "Notebook_type = 'Etivity' #@param [\"Example\", \"Lab\", \"Practice\", \"Etivity\", \"Assignment\", \"Exam\"]\n",
        "Version = \"Final\" #@param [\"Draft\", \"Final\"]\n",
        "Submission = True #@param {type:\"boolean\"}"
      ],
      "execution_count": 4,
      "outputs": []
    },
    {
      "cell_type": "markdown",
      "metadata": {
        "id": "gA7MmmWq3ghX"
      },
      "source": [
        "#Introduction\n",
        "\n"
      ]
    },
    {
      "cell_type": "markdown",
      "metadata": {
        "id": "80m304lUefG4"
      },
      "source": [
        "## MNIST dataset"
      ]
    },
    {
      "cell_type": "markdown",
      "metadata": {
        "id": "Bs8mHGcidHSa"
      },
      "source": [
        "\n",
        "\n",
        "The MNIST database  is a dataset of handwritten digits that has been and is extensively used in machine learning. There are $10$ classes, each image is $28\\times28$ pixels and, therefore, each input is $x_i\\in\\mathbb{R}^{784}$. "
      ]
    },
    {
      "cell_type": "markdown",
      "metadata": {
        "id": "ailycCq5epj2"
      },
      "source": [
        "## Task"
      ]
    },
    {
      "cell_type": "markdown",
      "metadata": {
        "id": "a-yNAxhUemjM"
      },
      "source": [
        "You have to extend the code to manage any arbitrary number of classes, in other words you have to implement a general-recipe multinomial logistic classifier and Bayesian multinomial logistic classifier.\n",
        "\n",
        "You must then select  3 digits at random and perform  the following task. \n",
        "\n",
        "1. Your goal is to use Bayesian multinomial logistic regression (as in the road-sign notebook) to solve this classification problem. \n",
        "\n",
        "2. You can downsize the training dataset (e.g., 40% training and 60%testing) if the computation of the posterior takes too much time in your computer.\n",
        "\n",
        "3. Use the posterior uncertainty to detect the instances (digits) in the test set that are hard to classify and remove them from the test-set.\n",
        "\n",
        "4. Then you need to compute again the accuracy of the general-recipe logistic regression on the remaining (non-difficult) instances and comment on the result.\n",
        "\n",
        "5. In practice, the task is to use uncertainty estimation to detect the difficult instances in the test-set. This is equivalent to refuse to classify all high-uncertainty instances or, in other words, when we are uncertain we say \"I don't know\" and we do not return any class. In this way, you will learn how uncertainty can be used to make safer decisions, by detecting the instances that are difficult to classify.\n"
      ]
    },
    {
      "cell_type": "markdown",
      "metadata": {
        "id": "nMRKRTQZe5fW"
      },
      "source": [
        "## Libraries"
      ]
    },
    {
      "cell_type": "code",
      "metadata": {
        "id": "IxusAui7AX_f"
      },
      "source": [
        "# Suppressing Warnings:\n",
        "import warnings\n",
        "warnings.filterwarnings(\"ignore\")"
      ],
      "execution_count": 5,
      "outputs": []
    },
    {
      "cell_type": "code",
      "metadata": {
        "id": "MQOfGMQpdHSb"
      },
      "source": [
        "# Import libraries\n",
        "from sklearn.linear_model import LogisticRegression\n",
        "from sklearn.metrics import accuracy_score\n",
        "from sklearn.model_selection import train_test_split\n",
        "import scipy.optimize as optimize\n",
        "from scipy.special import erf\n",
        "import pandas as pd\n",
        "import numpy as np\n",
        "import seaborn as sns\n",
        "from tqdm import tqdm\n",
        "from skimage.io import imread, imshow\n",
        "import matplotlib.image as mpimg\n",
        "import matplotlib.pyplot as plt\n",
        "import matplotlib\n",
        "%matplotlib inline\n",
        "import arviz as az\n",
        "from scipy.io import loadmat\n",
        "import pymc3 as pm\n",
        "import random\n",
        "from IPython.display import HTML\n",
        "import pickle\n",
        "import theano as tt\n",
        "import cv2\n",
        "from sklearn.utils import shuffle\n",
        "from skimage.color import rgb2gray"
      ],
      "execution_count": 6,
      "outputs": []
    },
    {
      "cell_type": "code",
      "metadata": {
        "id": "_PiaalkMK-GH"
      },
      "source": [
        "plt.style.use('fivethirtyeight')"
      ],
      "execution_count": 7,
      "outputs": []
    },
    {
      "cell_type": "code",
      "metadata": {
        "id": "P5-qMSjpAQ-9"
      },
      "source": [
        "# Setting a seed:\n",
        "np.random.seed(123)"
      ],
      "execution_count": 8,
      "outputs": []
    },
    {
      "cell_type": "markdown",
      "metadata": {
        "id": "r4hSuwkUfVQb"
      },
      "source": [
        "## Dataset"
      ]
    },
    {
      "cell_type": "markdown",
      "metadata": {
        "id": "w99Pc66YdHSd"
      },
      "source": [
        "### Loading the MNIST dataset"
      ]
    },
    {
      "cell_type": "code",
      "metadata": {
        "colab": {
          "base_uri": "https://localhost:8080/"
        },
        "id": "CYFWAbXVzynp",
        "outputId": "c7579f05-a1df-40f1-a444-172add9342c8"
      },
      "source": [
        "#Mount Google Drive\n",
        "from google.colab import drive\n",
        "drive.mount('/content/drive')"
      ],
      "execution_count": 10,
      "outputs": [
        {
          "output_type": "stream",
          "name": "stdout",
          "text": [
            "Mounted at /content/drive\n"
          ]
        }
      ]
    },
    {
      "cell_type": "code",
      "metadata": {
        "colab": {
          "base_uri": "https://localhost:8080/"
        },
        "id": "g4rCnS4vdHSd",
        "outputId": "b48c4724-ee72-4268-bee6-db6fd5a05349"
      },
      "source": [
        "# Path, copy the path from your Drive\n",
        "Path = '/content/drive/MyDrive/Colab Notebooks/ET5003_Etivity1/'\n",
        "\n",
        "# MNIST Data\n",
        "train_data = Path + 'mnist_train.csv'\n",
        "test_data = Path + 'mnist_test.csv'\n",
        "\n",
        "# train data\n",
        "df_train = pd.read_csv(train_data)\n",
        "X_train = df_train.drop(\"label\",axis=1).values\n",
        "y_train = df_train.label.values\n",
        "print(X_train.shape)\n",
        "\n",
        "# test data\n",
        "df_test = pd.read_csv(test_data)\n",
        "X_test = df_test.drop(\"label\",axis=1).values\n",
        "y_test = df_test.label.values\n",
        "print(X_test.shape)"
      ],
      "execution_count": 14,
      "outputs": [
        {
          "output_type": "stream",
          "name": "stdout",
          "text": [
            "(60000, 784)\n",
            "(10000, 784)\n"
          ]
        }
      ]
    },
    {
      "cell_type": "code",
      "metadata": {
        "colab": {
          "base_uri": "https://localhost:8080/"
        },
        "id": "O2ubJ_WoAqBh",
        "outputId": "b35662bf-6604-438a-922c-de76fc083cb7"
      },
      "source": [
        "# Normalizing the Inputs:\n",
        "X_train = X_train/255\n",
        "X_test = X_test/255\n",
        "\n",
        "# Printing the new input range of values:\n",
        "minv = np.min(X_train)\n",
        "maxv = np.max(X_train)\n",
        "print(minv,maxv)"
      ],
      "execution_count": 15,
      "outputs": [
        {
          "output_type": "stream",
          "name": "stdout",
          "text": [
            "0.0 1.0\n"
          ]
        }
      ]
    },
    {
      "cell_type": "markdown",
      "metadata": {
        "id": "SR6HpkWndHSe"
      },
      "source": [
        "### Description of Data:"
      ]
    },
    {
      "cell_type": "code",
      "metadata": {
        "colab": {
          "base_uri": "https://localhost:8080/"
        },
        "id": "sibN1Vv1dHSf",
        "outputId": "24d1deab-5a1e-4681-a1d8-7b597c3a35c4"
      },
      "source": [
        "# Number of examples\n",
        "n_train =  len(X_train)\n",
        "n_test =  len(X_test)\n",
        "\n",
        "# Shape of an traffic sign image\n",
        "image_shape = X_train.shape[1]\n",
        "\n",
        "# unique classes/labels in the training dataset.\n",
        "alltotal = set(y_train)\n",
        "n_classes = len(alltotal)\n",
        "\n",
        "print(\"Number of Training examples =\", n_train)\n",
        "print(\"Number of Test examples =\", n_test)\n",
        "print(\"Image input shape =\", image_shape)\n",
        "print(\"Number of classes =\", n_classes)"
      ],
      "execution_count": 16,
      "outputs": [
        {
          "output_type": "stream",
          "name": "stdout",
          "text": [
            "Number of Training examples = 60000\n",
            "Number of Test examples = 10000\n",
            "Image input shape = 784\n",
            "Number of classes = 10\n"
          ]
        }
      ]
    },
    {
      "cell_type": "markdown",
      "metadata": {
        "id": "6HQDSvrRKZF6"
      },
      "source": [
        "### Class Distribution:"
      ]
    },
    {
      "cell_type": "code",
      "metadata": {
        "colab": {
          "base_uri": "https://localhost:8080/",
          "height": 605
        },
        "id": "XG8GdlpBKdCt",
        "outputId": "ae1a4c40-ddca-4c2c-952e-68e02c50758a"
      },
      "source": [
        "plt.figure(figsize=(8,6), dpi= 100, facecolor='lightblue', edgecolor='k')\n",
        "plt.hist(y_train, bins=n_classes, edgecolor='black', linewidth=1.2)\n",
        "plt.xlabel('classes')\n",
        "plt.ylabel('counts')\n",
        "plt.title('Histogram of downsampled digit images')\n",
        "plt.show()"
      ],
      "execution_count": 17,
      "outputs": [
        {
          "output_type": "display_data",
          "data": {
            "image/png": "[encoded data removed]",
            "text/plain": [
              "<Figure size 800x600 with 1 Axes>"
            ]
          },
          "metadata": {}
        }
      ]
    },
    {
      "cell_type": "markdown",
      "metadata": {
        "id": "EyLWw3nsLCtk"
      },
      "source": [
        "## Downsampling"
      ]
    },
    {
      "cell_type": "markdown",
      "metadata": {
        "id": "2U1lFEwhLKBf"
      },
      "source": [
        "### Randomly selecting 3 of the 10 Digit Classes"
      ]
    },
    {
      "cell_type": "code",
      "metadata": {
        "id": "0EeRZZWdLRPT"
      },
      "source": [
        "def select_number_of_classes(n_classes):\n",
        "  \"\"\"\n",
        "  Returns an arbitrary random selection of digits \n",
        "  \n",
        "  :param n_classes: arbitrary number of classes to be returned\n",
        "  :return classes: random selection of group of classes totaling number specified\n",
        "  \"\"\"\n",
        "\n",
        "  # Empty list to append the random digit classes we select:\n",
        "  classes = []\n",
        "\n",
        "  # We select 3 digits at random and make sure they are unique:\n",
        "  while len(classes) < n_classes:\n",
        "    \n",
        "      # Randomly drawing a digit from 0-9:\n",
        "      num2choose = np.random.randint(0,10)\n",
        "\n",
        "      # Append the digit if it's not already in our list of classes:\n",
        "      if num2choose not in classes: \n",
        "          classes.append(num2choose)\n",
        "        \n",
        "        \n",
        "  # Sorting the Classes smallest to largest    \n",
        "  classes.sort()\n",
        "\n",
        "  # print classes selected\n",
        "  print(classes)\n",
        "  return classes"
      ],
      "execution_count": 18,
      "outputs": []
    },
    {
      "cell_type": "code",
      "metadata": {
        "colab": {
          "base_uri": "https://localhost:8080/"
        },
        "id": "pW3Nqz6ydLmY",
        "outputId": "ff839d36-9512-4df8-e2cd-883c40d6fc3e"
      },
      "source": [
        "# Call select_number_of_classes function to return a group classes. In this instance, we want 3 classes as per the intructions\n",
        "n_classes = 3\n",
        "classes = select_number_of_classes(n_classes)"
      ],
      "execution_count": 19,
      "outputs": [
        {
          "output_type": "stream",
          "name": "stdout",
          "text": [
            "[1, 2, 6]\n"
          ]
        }
      ]
    },
    {
      "cell_type": "markdown",
      "metadata": {
        "id": "QlZp8BRKkmgI"
      },
      "source": [
        "## Commentary:\n",
        "\n",
        "As per the intructions, the code as  extended to code to handle an arbitrary number of classes by wrapping the logic to create a random group of digit classes in a function. NOTE: More logic needs to be added in order to make the code more resuable in order to make the solution more configurable to handle the requested number of classes."
      ]
    },
    {
      "cell_type": "code",
      "metadata": {
        "colab": {
          "base_uri": "https://localhost:8080/"
        },
        "id": "2M8R5NqKMB_M",
        "outputId": "b64050af-c263-4566-c32b-a0f60a914187"
      },
      "source": [
        "# The number of instances we'll keep for each of our 3 digits:\n",
        "inst_class = 5000\n",
        "\n",
        "# List to contain inputs\n",
        "inputs = []\n",
        "\n",
        "# List to contain labels\n",
        "labels = []\n",
        "\n",
        "# Loop to randomly sample the instances for each digit:\n",
        "for r in classes:\n",
        "    imgs = X_train[np.where(y_train==r)[0],:]\n",
        "    inputs.append(\n",
        "        imgs[np.random.permutation(imgs.shape[0]),:][0:inst_class,:])\n",
        "    labels.append(np.ones(inst_class)*r)\n",
        "    \n",
        "# Shaping inputs and labels in the right format    \n",
        "X_train = np.vstack(inputs).astype(np.float64)\n",
        "y_train = np.hstack(labels)\n",
        "\n",
        "print(X_train.shape)\n",
        "\n",
        "print(y_train.shape)"
      ],
      "execution_count": 20,
      "outputs": [
        {
          "output_type": "stream",
          "name": "stdout",
          "text": [
            "(15000, 784)\n",
            "(15000,)\n"
          ]
        }
      ]
    },
    {
      "cell_type": "code",
      "metadata": {
        "colab": {
          "base_uri": "https://localhost:8080/"
        },
        "id": "9WX804aNOyRd",
        "outputId": "ad7b4f1a-4b74-4005-bc70-b18b8912d547"
      },
      "source": [
        "print(labels)"
      ],
      "execution_count": 21,
      "outputs": [
        {
          "output_type": "stream",
          "name": "stdout",
          "text": [
            "[array([1., 1., 1., ..., 1., 1., 1.]), array([2., 2., 2., ..., 2., 2., 2.]), array([6., 6., 6., ..., 6., 6., 6.])]\n"
          ]
        }
      ]
    },
    {
      "cell_type": "code",
      "metadata": {
        "colab": {
          "base_uri": "https://localhost:8080/",
          "height": 605
        },
        "id": "wvPj9LQARvLI",
        "outputId": "5c624643-3a58-4c05-8291-dd66f2057f53"
      },
      "source": [
        "# new histogram\n",
        "plt.figure(figsize=(8,6), dpi= 100, facecolor='lightblue', edgecolor='k')\n",
        "plt.hist(y_train, bins=range(10), edgecolor='black', linewidth=1.2)\n",
        "plt.xlabel('classes')\n",
        "plt.ylabel('counts')\n",
        "plt.title('Histogram of downsampled digit images')\n",
        "plt.show()"
      ],
      "execution_count": 22,
      "outputs": [
        {
          "output_type": "display_data",
          "data": {
            "image/png": "[encoded data removed]",
            "text/plain": [
              "<Figure size 800x600 with 1 Axes>"
            ]
          },
          "metadata": {}
        }
      ]
    },
    {
      "cell_type": "markdown",
      "metadata": {
        "id": "_6-YHrQQMicy"
      },
      "source": [
        "New Classes Distribution"
      ]
    },
    {
      "cell_type": "code",
      "metadata": {
        "id": "eFgP4xugMvJm"
      },
      "source": [
        "def plot_digits(instances, images_per_row=5, **options):\n",
        "    \"\"\"\n",
        "    Plots digits as images.\n",
        "  \n",
        "    :param instances: array of digits to be plotted\n",
        "    :param images_per_row: number of images per row to be plotted\n",
        "    \"\"\"\n",
        "    size = 28\n",
        "    images_per_row = min(len(instances), images_per_row)\n",
        "    images = [instance.reshape(size,size) for instance in instances]\n",
        "    n_rows = (len(instances) - 1) // images_per_row + 1\n",
        "    row_images = []\n",
        "    n_empty = n_rows * images_per_row - len(instances)\n",
        "    images.append(np.zeros((size, size * n_empty)))\n",
        "    for row in range(n_rows):\n",
        "        rimages = images[row * images_per_row : (row + 1) * images_per_row]\n",
        "        row_images.append(np.concatenate(rimages, axis=1))\n",
        "    image = np.concatenate(row_images, axis=0)\n",
        "    plt.imshow(image,  cmap='gist_yarg')\n",
        "    plt.axis(\"off\")"
      ],
      "execution_count": 23,
      "outputs": []
    },
    {
      "cell_type": "code",
      "metadata": {
        "colab": {
          "base_uri": "https://localhost:8080/",
          "height": 400
        },
        "id": "zeEG-LGOM4fJ",
        "outputId": "18e7d4e5-a08e-4a76-a7b9-fa4c753eb82f"
      },
      "source": [
        "# Show a few instances from each Digit:\n",
        "plt.figure(figsize=(8,8))\n",
        "\n",
        "# Selecting a few label indices from each of the 3 classes to show:\n",
        "label_indices = np.hstack([np.random.choice(np.where(y_train==label)[0], size=5) for label in classes])\n",
        "\n",
        "print(label_indices)\n",
        "\n",
        "# Plotting 'original' image\n",
        "plot_digits(X_train[label_indices,:],images_per_row=5)\n",
        "plt.title(\"Original\", fontsize=14)"
      ],
      "execution_count": 24,
      "outputs": [
        {
          "output_type": "stream",
          "name": "stdout",
          "text": [
            "[ 1792  2252  2383  1873  3372  7155  7093  6244  7858  6909 14730 11056\n",
            " 11956 11192 13797]\n"
          ]
        },
        {
          "output_type": "execute_result",
          "data": {
            "text/plain": [
              "Text(0.5, 1.0, 'Original')"
            ]
          },
          "metadata": {},
          "execution_count": 24
        },
        {
          "output_type": "display_data",
          "data": {
            "image/png": "[encoded data removed]",
            "text/plain": [
              "<Figure size 576x576 with 1 Axes>"
            ]
          },
          "metadata": {}
        }
      ]
    },
    {
      "cell_type": "markdown",
      "metadata": {
        "id": "FsAOnOcNNG_V"
      },
      "source": [
        "###  Splitting the Training data into both Training and Validation Sets:\n",
        "\n",
        "- Although this is the Training set, we can still set aside some samples (for instance 20%) of the 1,500 instances we have for Model Validation purposes.\n",
        "\n",
        "\n",
        "- With that Validation Set, we can then select the amount of Uncertainty we are happy with from our Model to use out of sample on other unseen data.\n",
        "\n",
        "\n",
        "- We can then test out how well our decision performs on the Test Set that we put aside earlier."
      ]
    },
    {
      "cell_type": "code",
      "metadata": {
        "id": "YdsmyVAtPXNn"
      },
      "source": [
        "### Split tha dataset in training and validation sets\n",
        "# choose the fraction of your validation data from the training set\n",
        "w = 0.20\n",
        "X_train, X_val, y_train, y_val = train_test_split(X_train, y_train, test_size=w, random_state=0)\n",
        " \n",
        "# Shuffling the training instaces around to randomize the order of inputs to the model:\n",
        "X_train, y_train = shuffle(X_train, y_train)"
      ],
      "execution_count": 25,
      "outputs": []
    },
    {
      "cell_type": "code",
      "metadata": {
        "colab": {
          "base_uri": "https://localhost:8080/"
        },
        "id": "qXwJwP0iPxhi",
        "outputId": "f41cd8c4-81a3-4e1f-dd30-6d6734be2856"
      },
      "source": [
        "# print shape of your validation and training set\n",
        "\n",
        "print(\"Validation Shape: \", X_train.shape)\n",
        "print(\"Training Shape: \", X_val.shape)"
      ],
      "execution_count": 26,
      "outputs": [
        {
          "output_type": "stream",
          "name": "stdout",
          "text": [
            "Validation Shape:  (12000, 784)\n",
            "Training Shape:  (3000, 784)\n"
          ]
        }
      ]
    },
    {
      "cell_type": "markdown",
      "metadata": {
        "id": "aOroY1QoP8DY"
      },
      "source": [
        "### Encoding the Class labels for the Probabilistic ML Model:\n",
        "\n",
        "This is an example:\n",
        "\n",
        "- **[1,0,0]** for first digit\n",
        "- **[0,1,0]** for second digit\n",
        "- **[0,0,1]** for third digit"
      ]
    },
    {
      "cell_type": "markdown",
      "metadata": {
        "id": "rjUaqWTqQIcp"
      },
      "source": [
        "### General-Recipe ML"
      ]
    },
    {
      "cell_type": "code",
      "metadata": {
        "colab": {
          "base_uri": "https://localhost:8080/"
        },
        "id": "QzgdivxfQNv5",
        "outputId": "7ab43e60-8b20-4812-8c8f-eea7ad4cb854"
      },
      "source": [
        "# model\n",
        "model_log = LogisticRegression(random_state=0, max_iter=2000, C=100, solver='lbfgs', multi_class='multinomial')\n",
        "model_log.fit(X_train, y_train)\n",
        "\n",
        "# Classification:\n",
        "y_pred_log = model_log.predict(X_val)\n",
        "y_pred_logi_prob = model_log.predict_proba(X_val)\n",
        "\n",
        "# Maybe taking the maximum probability \n",
        "# in any of the classes for each observation\n",
        "prob_classmax = np.max(y_pred_logi_prob,axis=1)\n",
        "\n",
        "# Computing the Accuracy:\n",
        "print(f\"Accuracy Score: {accuracy_score(y_pred_log, y_val)}\")"
      ],
      "execution_count": 27,
      "outputs": [
        {
          "output_type": "stream",
          "name": "stdout",
          "text": [
            "Accuracy Score: 0.974\n"
          ]
        }
      ]
    },
    {
      "cell_type": "markdown",
      "metadata": {
        "id": "6cdz2y1Zv3m_"
      },
      "source": [
        "## Commentary\n",
        "\n",
        "For the digit classess 0,1, and 9, we get a score of 0.992 which is an excellent result including hard to detect digits."
      ]
    },
    {
      "cell_type": "code",
      "metadata": {
        "colab": {
          "base_uri": "https://localhost:8080/"
        },
        "id": "0lBrWKw1nT-d",
        "outputId": "a5d07a95-3b6e-4a54-8a6b-7a95c4ed2030"
      },
      "source": [
        "np.sort(prob_classmax)"
      ],
      "execution_count": 28,
      "outputs": [
        {
          "output_type": "execute_result",
          "data": {
            "text/plain": [
              "array([0.42794286, 0.51281636, 0.51719572, ..., 1.        , 1.        ,\n",
              "       1.        ])"
            ]
          },
          "metadata": {},
          "execution_count": 28
        }
      ]
    },
    {
      "cell_type": "code",
      "metadata": {
        "colab": {
          "base_uri": "https://localhost:8080/"
        },
        "id": "f8qmTGb-nRm5",
        "outputId": "827c3669-7002-4bae-fa60-4df53d2421d0"
      },
      "source": [
        "# probability of general-recipe logistic regression in wrong instances\n",
        "prob_classmax[y_pred_log!=y_val]\n",
        "prob_classmax[y_pred_log!=y_val].shape"
      ],
      "execution_count": 29,
      "outputs": [
        {
          "output_type": "execute_result",
          "data": {
            "text/plain": [
              "(78,)"
            ]
          },
          "metadata": {},
          "execution_count": 29
        }
      ]
    },
    {
      "cell_type": "code",
      "metadata": {
        "colab": {
          "base_uri": "https://localhost:8080/"
        },
        "id": "KlBr9Nzyuevg",
        "outputId": "dcaa3ef2-61eb-4069-eb57-4197f2304b51"
      },
      "source": [
        "np.array(y_pred_logi_prob)"
      ],
      "execution_count": 30,
      "outputs": [
        {
          "output_type": "execute_result",
          "data": {
            "text/plain": [
              "array([[9.89326061e-01, 1.06739395e-02, 4.74380273e-12],\n",
              "       [8.08042476e-31, 1.94425853e-09, 9.99999998e-01],\n",
              "       [1.07712024e-18, 2.97203386e-08, 9.99999970e-01],\n",
              "       ...,\n",
              "       [4.55841060e-27, 1.11795929e-12, 1.00000000e+00],\n",
              "       [2.78226471e-26, 1.00000000e+00, 1.87153181e-28],\n",
              "       [9.99999944e-01, 5.59040672e-08, 1.31913574e-14]])"
            ]
          },
          "metadata": {},
          "execution_count": 30
        }
      ]
    },
    {
      "cell_type": "markdown",
      "metadata": {
        "id": "iq6WndK0wesU"
      },
      "source": [
        "## Commentary\n",
        "\n",
        "We get 24 intances of incorrect identification for the digit classes 0,1, and 9 from this run. out the 3000 validation set, 24 incorrect is a good return giving an accuracy of 99.2% as previously mentioned."
      ]
    },
    {
      "cell_type": "markdown",
      "metadata": {
        "id": "3uQG6JsOQxH5"
      },
      "source": [
        "### Probabilistic Multinomial Logistic Regression:"
      ]
    },
    {
      "cell_type": "code",
      "metadata": {
        "id": "W3jzczJzRAtT"
      },
      "source": [
        "import sklearn.preprocessing\n",
        "## We use LabelBinarizer to transfor classes into counts\n",
        "# neg_label=0, pos_label=1 \n",
        "y_2_bin = sklearn.preprocessing.LabelBinarizer().fit_transform(y_train.reshape(-1,1))\n",
        "nf = X_train.shape[1]\n",
        "# number of classes\n",
        "nc = len(classes)\n",
        "# floatX = float32\n",
        "floatX = tt.config.floatX\n",
        "\n",
        "init_b = np.random.randn(nf, nc-1).astype(floatX)\n",
        "init_a = np.random.randn(nc-1).astype(floatX)\n",
        "\n",
        "\n",
        "with pm.Model() as multi_logistic:\n",
        "    # Prior\n",
        "    β = pm.Normal('beta', 0, sigma=100, shape=(nf, nc-1), testval=init_b)\n",
        "    α = pm.Normal('alpha', 0, sigma=100, shape=(nc-1,), testval=init_a)\n",
        "    \n",
        "    # we need to consider nc-1 features because the model is not identifiable\n",
        "    # the softmax turns a vector into a probability that sums up to one\n",
        "    # therefore we add zeros to go back to dimension nc\n",
        "    # so that softmax returns a vector of dimension nc\n",
        "    β1  = tt.tensor.concatenate([np.zeros((nf,1)),β ],axis=1)\n",
        "    α1  = tt.tensor.concatenate([[0],α ],)\n",
        "    \n",
        "    # Likelihood\n",
        "    mu = pm.math.matrix_dot(X_train,β1) + α1\n",
        "    # It doesn't work if the problem is binary\n",
        "    p = tt.tensor.nnet.nnet.softmax(mu)\n",
        "    observed = pm.Multinomial('likelihood', p=p, n=1, observed=y_2_bin)"
      ],
      "execution_count": 31,
      "outputs": []
    },
    {
      "cell_type": "markdown",
      "metadata": {
        "id": "irlmUNw7Q5YL"
      },
      "source": [
        "The Multinomial Logistic Regression has some parameters:\n",
        "\n",
        "- $\\alpha$, which is the intercept term:\n",
        "\n",
        "- $\\beta$, which is a vector of coefficients which give a weighting to the importance of each input feature:\n"
      ]
    },
    {
      "cell_type": "code",
      "metadata": {
        "colab": {
          "base_uri": "https://localhost:8080/"
        },
        "id": "1o7mbKWmRhz5",
        "outputId": "f744f2dd-5ca0-4eaa-db2c-e0add9818d34"
      },
      "source": [
        "y_2_bin"
      ],
      "execution_count": 32,
      "outputs": [
        {
          "output_type": "execute_result",
          "data": {
            "text/plain": [
              "array([[0, 0, 1],\n",
              "       [1, 0, 0],\n",
              "       [1, 0, 0],\n",
              "       ...,\n",
              "       [0, 1, 0],\n",
              "       [1, 0, 0],\n",
              "       [0, 0, 1]])"
            ]
          },
          "metadata": {},
          "execution_count": 32
        }
      ]
    },
    {
      "cell_type": "code",
      "metadata": {
        "colab": {
          "base_uri": "https://localhost:8080/",
          "height": 91
        },
        "id": "aj6Uzc05Rhtr",
        "outputId": "b141675c-a849-40ec-a126-5c32c713d652"
      },
      "source": [
        "with multi_logistic:\n",
        "    #approx = pm.fit(300000, method='advi') # takes longer\n",
        "    approx = pm.fit(3000, method='advi')"
      ],
      "execution_count": 33,
      "outputs": [
        {
          "output_type": "stream",
          "name": "stderr",
          "text": [
            "WARNING (theano.tensor.blas): We did not find a dynamic library in the library_dir of the library we use for blas. If you use ATLAS, make sure to compile it with dynamics library.\n"
          ]
        },
        {
          "output_type": "display_data",
          "data": {
            "text/html": [
              "\n",
              "    <div>\n",
              "        <style>\n",
              "            /* Turns off some styling */\n",
              "            progress {\n",
              "                /* gets rid of default border in Firefox and Opera. */\n",
              "                border: none;\n",
              "                /* Needs to be in here for Safari polyfill so background images work as expected. */\n",
              "                background-size: auto;\n",
              "            }\n",
              "            .progress-bar-interrupted, .progress-bar-interrupted::-webkit-progress-bar {\n",
              "                background: #F44336;\n",
              "            }\n",
              "        </style>\n",
              "      <progress value='3000' class='' max='3000' style='width:300px; height:20px; vertical-align: middle;'></progress>\n",
              "      100.00% [3000/3000 02:45<00:00 Average Loss = 18,328]\n",
              "    </div>\n",
              "    "
            ],
            "text/plain": [
              "<IPython.core.display.HTML object>"
            ]
          },
          "metadata": {}
        },
        {
          "output_type": "stream",
          "name": "stderr",
          "text": [
            "Finished [100%]: Average Loss = 18,242\n"
          ]
        }
      ]
    },
    {
      "cell_type": "code",
      "metadata": {
        "colab": {
          "base_uri": "https://localhost:8080/",
          "height": 594
        },
        "id": "2MFH4gwlRhrB",
        "outputId": "3c86a93f-5560-4d4e-93d3-8ffc4649b798"
      },
      "source": [
        "plt.figure(figsize=(8,6), dpi= 100, facecolor='lightblue', edgecolor='k')\n",
        "plt.title(' Multinomial Logistic Regression - Loss')\n",
        "plt.plot(approx.hist)"
      ],
      "execution_count": 34,
      "outputs": [
        {
          "output_type": "execute_result",
          "data": {
            "text/plain": [
              "[<matplotlib.lines.Line2D at 0x7f73b33873d0>]"
            ]
          },
          "metadata": {},
          "execution_count": 34
        },
        {
          "output_type": "display_data",
          "data": {
            "image/png": "[encoded data removed]",
            "text/plain": [
              "<Figure size 800x600 with 1 Axes>"
            ]
          },
          "metadata": {}
        }
      ]
    },
    {
      "cell_type": "code",
      "metadata": {
        "colab": {
          "base_uri": "https://localhost:8080/",
          "height": 54
        },
        "id": "gd-Za6K69Rc_",
        "outputId": "87bb27e2-13ce-461f-8296-4344e57bc656"
      },
      "source": [
        "#https://docs.pymc.io/notebooks/variational_api_quickstart.html\n",
        "\n",
        "from pymc3.variational.callbacks import CheckParametersConvergence\n",
        "\n",
        "with multi_logistic:\n",
        "    mean_field = pm.fit(3000, method=\"advi\", callbacks=[pm.callbacks.CheckParametersConvergence(diff=\"absolute\")]\n",
        "    )"
      ],
      "execution_count": 35,
      "outputs": [
        {
          "output_type": "display_data",
          "data": {
            "text/html": [
              "\n",
              "    <div>\n",
              "        <style>\n",
              "            /* Turns off some styling */\n",
              "            progress {\n",
              "                /* gets rid of default border in Firefox and Opera. */\n",
              "                border: none;\n",
              "                /* Needs to be in here for Safari polyfill so background images work as expected. */\n",
              "                background-size: auto;\n",
              "            }\n",
              "            .progress-bar-interrupted, .progress-bar-interrupted::-webkit-progress-bar {\n",
              "                background: #F44336;\n",
              "            }\n",
              "        </style>\n",
              "      <progress value='3000' class='' max='3000' style='width:300px; height:20px; vertical-align: middle;'></progress>\n",
              "      100.00% [3000/3000 02:45<00:00 Average Loss = 17,891]\n",
              "    </div>\n",
              "    "
            ],
            "text/plain": [
              "<IPython.core.display.HTML object>"
            ]
          },
          "metadata": {}
        },
        {
          "output_type": "stream",
          "name": "stderr",
          "text": [
            "Finished [100%]: Average Loss = 17,837\n"
          ]
        }
      ]
    },
    {
      "cell_type": "code",
      "metadata": {
        "colab": {
          "base_uri": "https://localhost:8080/",
          "height": 594
        },
        "id": "peGYU70jAisV",
        "outputId": "8dad5f7f-47f9-48c7-a30e-bcec797dcb0a"
      },
      "source": [
        "plt.figure(figsize=(8,6), dpi= 100, facecolor='lightblue', edgecolor='k')\n",
        "plt.title(' Multinomial Logistic Regression - Loss')\n",
        "plt.plot(mean_field.hist)"
      ],
      "execution_count": 36,
      "outputs": [
        {
          "output_type": "execute_result",
          "data": {
            "text/plain": [
              "[<matplotlib.lines.Line2D at 0x7f73a2e72050>]"
            ]
          },
          "metadata": {},
          "execution_count": 36
        },
        {
          "output_type": "display_data",
          "data": {
            "image/png": "[encoded data removed]",
            "text/plain": [
              "<Figure size 800x600 with 1 Axes>"
            ]
          },
          "metadata": {}
        }
      ]
    },
    {
      "cell_type": "markdown",
      "metadata": {
        "id": "215UK7CRgM8Z"
      },
      "source": [
        "## Commentary:\n",
        "\n",
        "We see plotted above the loss per iteration Multi Logistic Regression model the PyMC3 utomatic differentiation variational inference(ADVI) method. The average loss per iteration is 11,371 at 3000 iteration and we do not get a convergence at any stage."
      ]
    },
    {
      "cell_type": "code",
      "metadata": {
        "id": "WNmJvYc4Rho7"
      },
      "source": [
        "dd = 300\n",
        "posterior = approx.sample(draws=dd)"
      ],
      "execution_count": 37,
      "outputs": []
    },
    {
      "cell_type": "code",
      "metadata": {
        "colab": {
          "base_uri": "https://localhost:8080/",
          "height": 253
        },
        "id": "XXh5GXJsRhmr",
        "outputId": "4ddd5d67-b334-49f2-88d4-e8818ce3a15a"
      },
      "source": [
        "## The softmax function transforms each element of a collection by computing the exponential\n",
        "#  of each element divided by the sum of the exponentials of all the elements.\n",
        "from scipy.special import softmax\n",
        "\n",
        "#select an image in the test set\n",
        "i = 10 \n",
        "#i = random.randint(0, dd)\n",
        "\n",
        "#select a sample in the posterior\n",
        "s = 100 \n",
        "#s = random.randint(0, dd)\n",
        "\n",
        "beta  = np.hstack([np.zeros((nf,1)),  posterior['beta'][s,:] ])\n",
        "alpha = np.hstack([[0],  posterior['alpha'][s,:] ])\n",
        "image = X_val[i,:].reshape(28,28)\n",
        "plt.figure(figsize=(2,2))\n",
        "plt.imshow(image,cmap=\"Greys_r\")\n",
        "np.set_printoptions(suppress=True)\n",
        "\n",
        "print(\"test image #\" + str(i))\n",
        "print(\"posterior sample #\" + str(s))\n",
        "print(\"true class=\", y_val[i])\n",
        "print(\"classes: \" + str(classes))\n",
        "print(\"estimated prob=\",softmax((np.array([X_val[i,:].dot(beta) + alpha])))[0,:])"
      ],
      "execution_count": 38,
      "outputs": [
        {
          "output_type": "stream",
          "name": "stdout",
          "text": [
            "test image #10\n",
            "posterior sample #100\n",
            "true class= 6.0\n",
            "classes: [1, 2, 6]\n",
            "estimated prob= [0.0000004  0.98721599 0.0127836 ]\n"
          ]
        },
        {
          "output_type": "display_data",
          "data": {
            "image/png": "[encoded data removed]",
            "text/plain": [
              "<Figure size 144x144 with 1 Axes>"
            ]
          },
          "metadata": {}
        }
      ]
    },
    {
      "cell_type": "markdown",
      "metadata": {
        "id": "ui0YZiSqmpec"
      },
      "source": [
        "## Bayesian Prediction"
      ]
    },
    {
      "cell_type": "code",
      "metadata": {
        "id": "9IFYXlgInnjd"
      },
      "source": [
        "# Bayesian prediction\n",
        "# return the class that has the highest posterior probability\n",
        "y_pred_Bayesian=[]\n",
        "\n",
        "for i in range(X_val.shape[0]):\n",
        "    val=np.zeros((1,len(classes)))\n",
        "    \n",
        "    for s in range(posterior['beta'].shape[0]):\n",
        "        beta = np.hstack([np.zeros((nf,1)),  posterior['beta'][s,:] ])\n",
        "        alpha = np.hstack([[0],  posterior['alpha'][s,:] ])     \n",
        "        val = val + softmax((np.array([X_val[i,:].dot(beta) + alpha])))\n",
        "    \n",
        "    mean_probability = val/posterior['beta'].shape[0]\n",
        "    y_pred_Bayesian.append( np.argmax(mean_probability))"
      ],
      "execution_count": 39,
      "outputs": []
    },
    {
      "cell_type": "code",
      "metadata": {
        "colab": {
          "base_uri": "https://localhost:8080/"
        },
        "id": "oa5TjnoUF0oN",
        "outputId": "050832c7-e0f3-4b3c-eae8-4ab9936099ca"
      },
      "source": [
        "print(y_pred_Bayesian)"
      ],
      "execution_count": 40,
      "outputs": [
        {
          "output_type": "stream",
          "name": "stdout",
          "text": [
            "[0, 2, 1, 0, 1, 0, 2, 2, 1, 0, 1, 1, 0, 2, 0, 2, 0, 2, 2, 1, 2, 1, 1, 0, 0, 0, 2, 1, 1, 1, 1, 2, 1, 0, 2, 1, 2, 1, 2, 1, 2, 1, 2, 2, 0, 2, 1, 2, 2, 2, 2, 2, 1, 2, 1, 0, 0, 0, 2, 1, 2, 2, 1, 1, 1, 2, 1, 1, 1, 0, 2, 0, 1, 0, 2, 2, 1, 2, 1, 2, 2, 0, 0, 1, 2, 2, 2, 2, 1, 0, 1, 0, 0, 1, 2, 0, 2, 2, 0, 1, 1, 0, 1, 2, 1, 2, 0, 2, 2, 0, 0, 2, 1, 1, 1, 0, 2, 0, 1, 2, 2, 1, 0, 2, 0, 0, 0, 0, 2, 2, 2, 1, 1, 2, 2, 1, 2, 0, 1, 0, 1, 2, 1, 1, 0, 1, 0, 1, 1, 0, 0, 1, 1, 2, 2, 1, 2, 0, 0, 1, 0, 1, 2, 0, 0, 0, 1, 1, 2, 1, 2, 2, 2, 2, 0, 2, 1, 1, 2, 1, 2, 1, 2, 0, 0, 2, 2, 1, 2, 2, 0, 1, 2, 2, 1, 0, 0, 0, 2, 1, 1, 2, 1, 0, 2, 0, 2, 1, 2, 1, 2, 2, 0, 1, 0, 0, 2, 0, 1, 0, 1, 2, 2, 0, 0, 1, 2, 2, 2, 2, 2, 2, 1, 0, 2, 0, 0, 2, 1, 2, 1, 2, 2, 2, 2, 0, 1, 0, 0, 1, 1, 1, 1, 2, 2, 2, 1, 2, 2, 2, 2, 2, 0, 1, 2, 1, 1, 1, 0, 0, 0, 0, 2, 2, 2, 1, 2, 0, 1, 2, 2, 0, 1, 1, 0, 2, 0, 2, 1, 1, 0, 0, 1, 2, 0, 0, 1, 1, 1, 1, 0, 0, 2, 2, 1, 1, 2, 1, 0, 0, 0, 2, 0, 2, 2, 0, 0, 1, 0, 0, 2, 1, 2, 0, 2, 0, 2, 1, 1, 2, 1, 2, 2, 0, 0, 0, 2, 2, 2, 1, 2, 1, 1, 2, 1, 0, 0, 2, 1, 0, 0, 1, 2, 0, 2, 2, 2, 2, 0, 0, 0, 1, 1, 0, 0, 0, 2, 2, 0, 1, 0, 2, 0, 0, 1, 2, 1, 0, 0, 1, 2, 0, 2, 0, 2, 1, 2, 2, 2, 1, 1, 0, 0, 2, 2, 0, 0, 2, 1, 1, 2, 0, 0, 0, 0, 1, 0, 1, 1, 2, 0, 1, 1, 1, 1, 0, 2, 0, 2, 0, 1, 0, 1, 1, 1, 1, 0, 1, 1, 2, 1, 1, 1, 1, 0, 0, 2, 0, 1, 1, 2, 0, 1, 1, 1, 2, 2, 0, 0, 1, 2, 1, 2, 2, 1, 2, 1, 0, 2, 1, 2, 2, 1, 0, 0, 1, 0, 1, 0, 2, 0, 0, 2, 2, 2, 2, 1, 0, 2, 0, 1, 2, 1, 1, 1, 0, 2, 1, 2, 1, 2, 0, 0, 0, 1, 2, 1, 2, 0, 2, 2, 1, 1, 1, 2, 0, 1, 0, 2, 0, 2, 2, 0, 0, 2, 2, 0, 2, 1, 2, 1, 2, 1, 1, 1, 0, 0, 1, 1, 2, 1, 0, 2, 2, 2, 2, 1, 2, 2, 2, 1, 1, 1, 0, 0, 0, 1, 2, 0, 1, 2, 2, 2, 2, 0, 1, 1, 1, 2, 0, 1, 1, 1, 1, 0, 2, 0, 1, 1, 2, 0, 2, 0, 1, 0, 1, 2, 0, 2, 1, 2, 2, 2, 0, 2, 2, 1, 2, 0, 2, 2, 1, 0, 1, 0, 1, 1, 1, 0, 2, 0, 2, 1, 1, 0, 0, 0, 1, 2, 0, 2, 0, 1, 1, 0, 0, 0, 2, 0, 2, 1, 0, 2, 1, 2, 0, 0, 2, 1, 0, 1, 0, 2, 2, 1, 1, 1, 0, 0, 0, 1, 1, 0, 2, 0, 1, 1, 0, 2, 1, 1, 0, 2, 2, 2, 2, 1, 2, 2, 2, 2, 2, 0, 1, 1, 0, 2, 1, 2, 1, 2, 1, 1, 1, 0, 2, 1, 1, 0, 2, 2, 1, 1, 0, 0, 1, 2, 1, 0, 0, 2, 1, 0, 2, 2, 1, 0, 2, 0, 0, 1, 2, 0, 2, 2, 1, 1, 0, 1, 1, 2, 2, 1, 0, 0, 0, 1, 1, 0, 1, 1, 0, 2, 0, 0, 0, 2, 1, 0, 2, 0, 1, 0, 2, 1, 2, 0, 0, 1, 1, 0, 1, 1, 1, 0, 2, 1, 2, 0, 0, 2, 1, 2, 2, 0, 2, 2, 1, 2, 0, 0, 1, 2, 2, 1, 0, 0, 0, 1, 0, 1, 0, 1, 2, 1, 0, 1, 1, 2, 0, 2, 0, 2, 1, 0, 2, 0, 2, 2, 0, 2, 0, 2, 2, 1, 0, 1, 2, 0, 0, 1, 2, 0, 0, 2, 2, 0, 0, 0, 2, 0, 0, 0, 2, 0, 2, 2, 2, 0, 0, 2, 0, 1, 2, 0, 1, 0, 2, 1, 2, 0, 2, 1, 0, 0, 1, 0, 2, 1, 2, 2, 2, 2, 1, 1, 1, 1, 1, 0, 2, 0, 2, 0, 0, 1, 2, 2, 2, 0, 2, 0, 0, 0, 1, 2, 1, 0, 1, 0, 2, 2, 2, 1, 2, 0, 0, 0, 0, 1, 2, 0, 2, 1, 1, 2, 1, 0, 1, 2, 1, 2, 1, 2, 2, 1, 0, 1, 1, 0, 2, 0, 0, 0, 2, 2, 1, 0, 1, 0, 0, 2, 1, 0, 2, 0, 0, 0, 1, 1, 1, 1, 1, 2, 2, 0, 1, 2, 0, 1, 2, 0, 2, 2, 0, 1, 2, 1, 2, 2, 2, 0, 2, 2, 0, 0, 1, 1, 2, 2, 2, 1, 2, 2, 2, 1, 0, 0, 2, 2, 2, 1, 1, 1, 2, 0, 2, 1, 1, 0, 0, 1, 0, 0, 1, 0, 0, 2, 0, 0, 1, 2, 1, 2, 0, 2, 0, 1, 1, 1, 2, 2, 0, 2, 0, 1, 2, 2, 0, 0, 0, 0, 1, 0, 2, 1, 2, 0, 0, 2, 0, 0, 0, 1, 2, 0, 2, 2, 2, 2, 2, 0, 2, 1, 0, 0, 0, 2, 0, 1, 0, 0, 1, 1, 2, 2, 0, 1, 0, 0, 0, 2, 0, 1, 2, 2, 0, 0, 2, 1, 1, 1, 1, 1, 0, 2, 1, 1, 2, 1, 1, 0, 2, 0, 0, 0, 2, 1, 0, 1, 2, 1, 1, 0, 0, 1, 1, 1, 2, 2, 1, 2, 0, 0, 2, 1, 1, 0, 2, 2, 0, 1, 1, 2, 2, 0, 0, 2, 0, 2, 1, 2, 2, 2, 2, 1, 1, 1, 1, 2, 1, 2, 2, 0, 0, 2, 1, 2, 1, 2, 1, 0, 2, 1, 1, 1, 2, 2, 1, 2, 2, 0, 1, 0, 0, 1, 2, 1, 1, 2, 0, 1, 1, 2, 0, 2, 2, 1, 1, 0, 0, 0, 1, 2, 1, 0, 1, 1, 1, 1, 1, 0, 2, 0, 1, 0, 2, 2, 0, 0, 0, 0, 2, 1, 1, 1, 2, 2, 2, 1, 1, 2, 2, 1, 1, 2, 0, 1, 2, 2, 0, 1, 0, 0, 1, 2, 0, 0, 2, 1, 2, 2, 0, 2, 1, 2, 2, 2, 0, 2, 2, 1, 2, 2, 1, 0, 2, 2, 2, 1, 1, 2, 2, 2, 2, 2, 1, 0, 2, 0, 2, 0, 0, 0, 2, 2, 2, 1, 0, 2, 0, 0, 2, 1, 1, 1, 0, 1, 1, 2, 1, 2, 1, 2, 0, 1, 1, 2, 2, 2, 0, 2, 0, 0, 2, 0, 0, 1, 0, 2, 0, 2, 1, 0, 0, 2, 2, 0, 2, 2, 1, 0, 0, 2, 2, 1, 2, 2, 1, 2, 2, 0, 2, 2, 1, 2, 0, 1, 0, 1, 1, 0, 2, 1, 0, 2, 1, 2, 2, 0, 2, 2, 1, 2, 2, 2, 1, 2, 2, 0, 0, 2, 2, 2, 1, 0, 0, 2, 2, 1, 1, 0, 1, 0, 2, 2, 0, 2, 1, 1, 0, 0, 1, 2, 1, 1, 0, 1, 1, 0, 0, 1, 0, 1, 2, 0, 0, 1, 1, 0, 0, 1, 2, 0, 2, 2, 2, 0, 2, 2, 1, 0, 1, 2, 0, 0, 2, 2, 2, 1, 2, 1, 1, 0, 1, 1, 1, 2, 0, 1, 2, 1, 0, 2, 0, 2, 1, 2, 2, 1, 0, 2, 0, 0, 0, 0, 2, 1, 0, 0, 2, 2, 0, 2, 0, 1, 0, 1, 1, 0, 1, 1, 1, 1, 1, 2, 0, 0, 2, 2, 2, 1, 1, 1, 1, 2, 0, 1, 0, 0, 1, 1, 0, 1, 0, 0, 1, 0, 0, 2, 0, 1, 1, 0, 1, 1, 2, 1, 2, 0, 1, 1, 0, 1, 0, 2, 2, 0, 2, 1, 2, 2, 0, 1, 0, 1, 1, 0, 1, 0, 1, 1, 0, 1, 2, 0, 1, 1, 2, 0, 2, 2, 2, 2, 0, 1, 0, 0, 1, 2, 0, 0, 2, 2, 0, 2, 2, 2, 0, 1, 1, 0, 0, 0, 0, 0, 1, 0, 0, 1, 0, 2, 1, 1, 1, 0, 0, 0, 0, 1, 0, 0, 1, 2, 1, 0, 1, 1, 1, 1, 1, 1, 1, 1, 2, 0, 1, 0, 1, 0, 1, 1, 1, 0, 0, 1, 0, 0, 0, 1, 2, 0, 2, 1, 0, 1, 1, 0, 0, 0, 2, 0, 0, 2, 1, 0, 1, 0, 1, 0, 0, 2, 1, 1, 1, 2, 2, 1, 1, 0, 1, 0, 2, 1, 0, 2, 2, 0, 0, 2, 0, 2, 1, 2, 0, 0, 0, 0, 0, 2, 0, 2, 2, 2, 2, 0, 2, 1, 1, 1, 1, 2, 2, 0, 1, 0, 1, 2, 0, 1, 1, 0, 0, 1, 1, 2, 1, 1, 1, 0, 0, 2, 1, 1, 1, 1, 0, 1, 0, 0, 0, 1, 2, 1, 1, 0, 2, 0, 2, 1, 2, 1, 2, 2, 1, 2, 0, 2, 2, 0, 2, 2, 0, 2, 0, 0, 1, 2, 1, 2, 1, 1, 1, 1, 1, 0, 2, 2, 1, 0, 1, 0, 1, 1, 0, 0, 2, 2, 0, 0, 2, 2, 1, 1, 1, 0, 0, 1, 0, 0, 2, 1, 1, 0, 0, 1, 0, 1, 2, 0, 2, 2, 1, 1, 0, 1, 2, 2, 2, 0, 2, 1, 1, 0, 2, 0, 0, 2, 1, 1, 0, 2, 0, 0, 2, 2, 1, 1, 0, 2, 2, 1, 1, 0, 0, 0, 0, 1, 2, 1, 0, 0, 1, 0, 2, 2, 1, 1, 2, 1, 2, 2, 0, 0, 1, 1, 1, 2, 0, 0, 2, 0, 0, 1, 1, 2, 2, 2, 0, 0, 2, 2, 0, 2, 1, 1, 1, 2, 2, 1, 2, 0, 1, 1, 1, 1, 0, 1, 0, 0, 0, 0, 1, 0, 1, 1, 2, 2, 0, 2, 0, 1, 1, 2, 0, 2, 2, 2, 2, 0, 1, 1, 0, 0, 1, 2, 1, 2, 0, 1, 2, 1, 2, 2, 2, 2, 0, 1, 2, 2, 1, 0, 2, 0, 2, 2, 2, 0, 2, 1, 0, 2, 0, 1, 2, 1, 1, 0, 0, 1, 0, 2, 2, 2, 2, 2, 2, 2, 2, 0, 0, 1, 1, 0, 1, 1, 2, 2, 2, 0, 2, 1, 0, 2, 1, 1, 1, 2, 0, 1, 2, 0, 1, 2, 1, 1, 0, 0, 1, 2, 0, 1, 1, 2, 0, 0, 2, 2, 2, 0, 1, 0, 1, 0, 2, 1, 2, 1, 2, 1, 0, 0, 0, 0, 1, 1, 0, 0, 0, 2, 1, 2, 0, 1, 0, 1, 0, 0, 2, 0, 1, 2, 0, 1, 1, 2, 1, 2, 2, 0, 1, 2, 2, 0, 0, 0, 1, 2, 2, 1, 1, 0, 2, 0, 2, 1, 1, 1, 2, 2, 1, 2, 2, 1, 2, 2, 2, 0, 2, 2, 1, 0, 2, 1, 2, 1, 2, 1, 1, 2, 2, 0, 2, 0, 2, 1, 1, 1, 0, 0, 0, 0, 1, 2, 1, 0, 0, 2, 0, 0, 2, 0, 2, 2, 1, 2, 2, 1, 1, 0, 2, 1, 0, 0, 1, 2, 2, 2, 2, 2, 0, 0, 1, 0, 2, 0, 1, 1, 0, 2, 0, 1, 0, 2, 2, 1, 1, 1, 0, 1, 1, 1, 1, 2, 2, 1, 2, 2, 2, 1, 2, 2, 0, 2, 0, 2, 2, 1, 1, 1, 1, 2, 1, 1, 1, 2, 1, 0, 1, 0, 1, 1, 2, 2, 0, 1, 2, 1, 2, 1, 0, 1, 1, 0, 0, 1, 2, 1, 0, 0, 2, 0, 0, 0, 0, 2, 1, 1, 0, 1, 0, 2, 2, 1, 1, 2, 1, 0, 0, 1, 2, 2, 1, 1, 1, 1, 1, 0, 0, 2, 0, 0, 1, 2, 0, 2, 0, 1, 0, 2, 0, 0, 2, 0, 1, 0, 2, 0, 1, 2, 1, 2, 0, 0, 2, 0, 0, 0, 0, 0, 0, 2, 0, 2, 0, 2, 2, 0, 2, 0, 0, 1, 2, 2, 0, 1, 0, 1, 2, 2, 1, 2, 0, 0, 2, 1, 0, 2, 1, 0, 1, 1, 2, 2, 2, 0, 1, 0, 1, 0, 2, 1, 2, 1, 1, 0, 2, 0, 2, 2, 0, 0, 0, 2, 2, 1, 2, 2, 0, 2, 2, 0, 1, 1, 1, 2, 2, 1, 0, 2, 2, 1, 1, 1, 2, 2, 0, 0, 2, 2, 0, 2, 0, 0, 2, 1, 1, 1, 2, 0, 1, 1, 1, 2, 0, 1, 2, 0, 1, 1, 0, 2, 2, 2, 2, 1, 1, 1, 1, 0, 0, 0, 1, 1, 1, 0, 1, 0, 2, 2, 2, 1, 0, 2, 1, 1, 2, 1, 0, 1, 1, 0, 1, 2, 0, 0, 1, 1, 0, 0, 0, 0, 2, 2, 1, 1, 2, 1, 2, 0, 0, 0, 2, 0, 1, 1, 2, 1, 1, 1, 0, 2, 0, 0, 0, 0, 1, 1, 1, 2, 0, 0, 2, 1, 0, 0, 2, 0, 1, 2, 0, 1, 2, 0, 0, 2, 2, 2, 0, 0, 1, 0, 1, 0, 2, 2, 2, 0, 1, 1, 1, 2, 0, 0, 1, 1, 1, 2, 1, 0, 2, 0, 0, 0, 0, 2, 1, 1, 1, 1, 0, 2, 2, 2, 1, 1, 1, 1, 0, 2, 2, 1, 0, 0, 2, 2, 2, 2, 1, 1, 0, 2, 0, 0, 2, 0, 0, 0, 1, 0, 0, 2, 1, 2, 1, 2, 2, 1, 0, 1, 0, 1, 0, 1, 1, 1, 2, 2, 2, 1, 0, 0, 2, 2, 1, 2, 2, 2, 1, 2, 0, 1, 1, 2, 0, 0, 0, 0, 1, 0, 2, 1, 0, 2, 2, 1, 2, 2, 0, 1, 1, 0, 2, 0, 2, 0, 1, 2, 2, 2, 0, 1, 0, 1, 1, 0, 2, 2, 2, 1, 0, 0, 0, 1, 0, 2, 1, 1, 1, 2, 1, 2, 1, 2, 1, 1, 0, 2, 2, 1, 0, 2, 1, 0, 0, 1, 1, 2, 0, 2, 1, 2, 1, 1, 1, 1, 2, 0, 1, 0, 0, 1, 0, 0, 0, 2, 0, 2, 0, 0, 0, 0, 2, 2, 0, 1, 1, 0, 0, 1, 2, 0, 0, 0, 1, 2, 1, 0, 2, 0, 1, 1, 2, 0, 1, 2, 2, 1, 1, 1, 1, 0, 2, 0, 0, 1, 0, 2, 2, 0, 2, 2, 2, 1, 1, 2, 0, 2, 0, 1, 2, 0, 1, 0, 1, 1, 2, 0, 1, 0, 1, 0, 1, 0, 2, 1, 1, 1, 0, 2, 1, 1, 0, 1, 2, 0, 1, 0, 1, 1, 1, 1, 1, 0, 1, 2, 2, 2, 0, 0, 1, 0, 2, 1, 1, 2, 0, 1, 2, 2, 1, 2, 2, 0, 2, 1, 0, 2, 2, 1, 1, 1, 1, 2, 1, 2, 2, 1, 1, 0, 0, 2, 1, 1, 1, 1, 1, 2, 0, 0, 1, 1, 0, 0, 1, 2, 2, 0, 2, 0, 1, 1, 0, 2, 0, 1, 1, 2, 2, 1, 2, 2, 0, 2, 1, 0, 2, 0, 1, 1, 0, 2, 2, 1, 2, 0, 1, 2, 2, 1, 1, 1, 1, 0, 1, 1, 0, 2, 1, 2, 1, 2, 2, 1, 2, 1, 1, 0, 2, 1, 2, 2, 2, 0, 0, 0, 2, 1, 0, 2, 1, 0, 2, 0, 0, 1, 1, 1, 0, 1, 2, 2, 2, 0, 2, 2, 2, 1, 2, 0, 0, 2, 1, 2, 0, 1, 0, 2, 0, 2, 1, 2, 0, 1, 2, 2, 1, 2, 2, 2, 0, 2, 2, 0, 0, 1, 1, 1, 2, 2, 2, 2, 2, 1, 2, 2, 1, 2, 2, 1, 2, 2, 2, 2, 0, 1, 1, 2, 2, 1, 1, 2, 1, 2, 2, 2, 2, 2, 2, 2, 2, 0, 0, 0, 0, 2, 0, 1, 0, 1, 1, 1, 1, 0, 1, 0, 1, 2, 2, 2, 2, 1, 1, 0, 1, 0, 0, 2, 1, 1, 1, 1, 2, 0, 1, 1, 2, 2, 0, 0, 1, 1, 0, 0, 1, 2, 2, 0, 1, 2, 2, 1, 2, 2, 0, 0, 0, 2, 0, 0, 1, 1, 1, 2, 1, 2, 0, 2, 1, 2, 0, 2, 2, 2, 1, 1, 1, 2, 1, 0, 0, 0, 0, 2, 2, 2, 2, 1, 0, 2, 1, 2, 2, 2, 1, 0, 0, 1, 1, 0, 2, 0, 1, 2, 0, 2, 1, 1, 2, 0, 2, 0, 1, 0, 0, 0, 0, 2, 1, 0, 2, 1, 0, 1, 2, 1, 0, 2, 2, 2, 2, 2, 1, 1, 2, 1, 0, 1, 2, 1, 2, 1, 1, 1, 0, 2, 1, 2, 0, 0, 2, 0, 0, 2, 1, 2, 1, 0, 1, 1, 2, 0, 2, 1, 0, 2, 2, 1, 1, 1, 2, 0, 2, 0, 2, 2, 2, 1, 2, 1, 0]\n"
          ]
        }
      ]
    },
    {
      "cell_type": "code",
      "metadata": {
        "colab": {
          "base_uri": "https://localhost:8080/"
        },
        "id": "-vNXY741F4Hp",
        "outputId": "fe6d1462-8682-4daa-a86d-2d3b82da793c"
      },
      "source": [
        "print(classes)"
      ],
      "execution_count": 41,
      "outputs": [
        {
          "output_type": "stream",
          "name": "stdout",
          "text": [
            "[1, 2, 6]\n"
          ]
        }
      ]
    },
    {
      "cell_type": "code",
      "metadata": {
        "colab": {
          "base_uri": "https://localhost:8080/"
        },
        "id": "FRvIXzZnF6Sd",
        "outputId": "4101e959-0b7a-48a7-9ec6-5abab47d8156"
      },
      "source": [
        "# prediction array (using classes)\n",
        "nn = 10 # just an example\n",
        "np.array(classes)[y_pred_Bayesian[0:nn]]"
      ],
      "execution_count": 42,
      "outputs": [
        {
          "output_type": "execute_result",
          "data": {
            "text/plain": [
              "array([1, 6, 2, 1, 2, 1, 6, 6, 2, 1])"
            ]
          },
          "metadata": {},
          "execution_count": 42
        }
      ]
    },
    {
      "cell_type": "code",
      "metadata": {
        "colab": {
          "base_uri": "https://localhost:8080/"
        },
        "id": "49UKZN93F_CE",
        "outputId": "15cad388-64fa-481a-d7cb-8bc1495a266a"
      },
      "source": [
        "# using validation: y_val\n",
        "print(\"Accuracy=\", accuracy_score(np.array(classes)[y_pred_Bayesian], y_val))"
      ],
      "execution_count": 43,
      "outputs": [
        {
          "output_type": "stream",
          "name": "stdout",
          "text": [
            "Accuracy= 0.9323333333333333\n"
          ]
        }
      ]
    },
    {
      "cell_type": "markdown",
      "metadata": {
        "id": "3AvFfzfb-thE"
      },
      "source": [
        "# Selecting Different Intances"
      ]
    },
    {
      "cell_type": "code",
      "metadata": {
        "id": "IqWp9Weg-yIO"
      },
      "source": [
        "y_predB=[]\n",
        "\n",
        "for i in range(X_val.shape[0]):\n",
        "    #print(i)\n",
        "    val=[]\n",
        "\n",
        "    for s in range(posterior['beta'].shape[0]):\n",
        "        beta = np.hstack([np.zeros((nf,1)),  posterior['beta'][s,:] ])\n",
        "        alpha = np.hstack([[0],  posterior['alpha'][s,:] ])\n",
        "        val.append(softmax((np.array([X_val[i,:].dot(beta) + alpha])))[0,:])\n",
        "\n",
        "    #mean probability\n",
        "    valmean = np.mean(val,axis=0)\n",
        "    #class with maximum mean probability\n",
        "    classmax = np.argmax(valmean)\n",
        "    #ranks\n",
        "    ranks = np.array(val.copy())\n",
        "    ranks   = ranks  *0 #init\n",
        "    colmax = np.argmax(np.array(val),axis=1)\n",
        "    ranks[np.arange(0,len(colmax)),colmax]=1\n",
        "     \n",
        "    y_predB.append( [classmax, valmean[classmax], np.std(ranks,axis=0)[classmax]])\n",
        "\n",
        "    \n",
        "y_predB= np.array(y_predB)"
      ],
      "execution_count": 44,
      "outputs": []
    },
    {
      "cell_type": "code",
      "metadata": {
        "colab": {
          "base_uri": "https://localhost:8080/"
        },
        "id": "IVqI0kb1-4_9",
        "outputId": "c6ef0bc6-d5f8-4a64-9f5a-5ddfaeab1b12"
      },
      "source": [
        "# prediction array\n",
        "mm = 10\n",
        "y_predB[0:mm,:]"
      ],
      "execution_count": 45,
      "outputs": [
        {
          "output_type": "execute_result",
          "data": {
            "text/plain": [
              "array([[0.        , 0.95211705, 0.18794207],\n",
              "       [2.        , 0.96959745, 0.16110728],\n",
              "       [1.        , 0.53928668, 0.49909919],\n",
              "       [0.        , 0.99708642, 0.        ],\n",
              "       [1.        , 0.90018732, 0.29550334],\n",
              "       [0.        , 0.65509047, 0.46249324],\n",
              "       [2.        , 0.99231056, 0.08137704],\n",
              "       [2.        , 0.82714481, 0.36348621],\n",
              "       [1.        , 0.80246765, 0.3923009 ],\n",
              "       [0.        , 0.94246321, 0.17058722]])"
            ]
          },
          "metadata": {},
          "execution_count": 45
        }
      ]
    },
    {
      "cell_type": "code",
      "metadata": {
        "colab": {
          "base_uri": "https://localhost:8080/"
        },
        "id": "0DdnUNsR-78u",
        "outputId": "be97adae-1198-426b-e861-7d6b34c1fc87"
      },
      "source": [
        "#sorting in descending order\n",
        "difficult = np.argsort(-y_predB[:,2])\n",
        "y_predB[difficult[0:mm],:]"
      ],
      "execution_count": 46,
      "outputs": [
        {
          "output_type": "execute_result",
          "data": {
            "text/plain": [
              "array([[1.        , 0.50099441, 0.5       ],\n",
              "       [2.        , 0.50892038, 0.5       ],\n",
              "       [2.        , 0.47972264, 0.5       ],\n",
              "       [2.        , 0.48477927, 0.5       ],\n",
              "       [1.        , 0.49253461, 0.49998889],\n",
              "       [0.        , 0.48186964, 0.49998889],\n",
              "       [0.        , 0.50427488, 0.49998889],\n",
              "       [0.        , 0.49348673, 0.49995555],\n",
              "       [2.        , 0.48597312, 0.49995555],\n",
              "       [2.        , 0.48994282, 0.49995555]])"
            ]
          },
          "metadata": {},
          "execution_count": 46
        }
      ]
    },
    {
      "cell_type": "code",
      "metadata": {
        "colab": {
          "base_uri": "https://localhost:8080/"
        },
        "id": "2PqTx9-rLTX4",
        "outputId": "3c2f7f23-9451-4e03-c913-6f11a71b4ade"
      },
      "source": [
        "print(len(difficult))"
      ],
      "execution_count": 47,
      "outputs": [
        {
          "output_type": "stream",
          "name": "stdout",
          "text": [
            "3000\n"
          ]
        }
      ]
    },
    {
      "cell_type": "code",
      "metadata": {
        "colab": {
          "base_uri": "https://localhost:8080/"
        },
        "id": "hzM4c_Z4_Aln",
        "outputId": "fd1aff51-4e08-4ca7-92af-e54b5b5939d5"
      },
      "source": [
        "#probability of general-recipe logistic regression in wrong instances\n",
        "prob_classmax[y_pred_log != y_val]"
      ],
      "execution_count": 48,
      "outputs": [
        {
          "output_type": "execute_result",
          "data": {
            "text/plain": [
              "array([1.        , 0.9999908 , 0.99995913, 0.99981316, 0.98083271,\n",
              "       0.93160836, 0.87121878, 0.97077793, 0.99999997, 0.51281636,\n",
              "       0.92647668, 0.99915538, 0.68446507, 0.99888272, 1.        ,\n",
              "       0.58892699, 0.93712594, 0.99980657, 0.92448369, 0.86436716,\n",
              "       0.99999999, 0.74991378, 0.99999971, 0.99946851, 0.9999984 ,\n",
              "       0.98467027, 0.99772893, 0.99996555, 0.99977217, 0.8898859 ,\n",
              "       0.85500602, 0.74938554, 0.96669718, 0.97653811, 0.67285204,\n",
              "       0.6364302 , 0.95327147, 0.96538917, 0.96006529, 1.        ,\n",
              "       0.99700056, 0.99951839, 0.97160668, 0.63319014, 0.99832596,\n",
              "       0.98802452, 0.95566242, 0.97789359, 0.68066048, 0.99953724,\n",
              "       0.93553806, 0.99999203, 0.99911984, 0.52529238, 0.99512415,\n",
              "       0.99999959, 1.        , 0.9619594 , 0.89507795, 0.8648585 ,\n",
              "       0.99528907, 0.60178173, 0.67797444, 0.9999999 , 0.98789771,\n",
              "       1.        , 0.42794286, 0.97469632, 0.99839468, 0.9593731 ,\n",
              "       0.99944375, 0.99566402, 0.66629481, 0.67123903, 0.97812372,\n",
              "       0.99990473, 0.99996692, 0.99794955])"
            ]
          },
          "metadata": {},
          "execution_count": 48
        }
      ]
    },
    {
      "cell_type": "code",
      "metadata": {
        "colab": {
          "base_uri": "https://localhost:8080/"
        },
        "id": "yFKjjl-d_BoT",
        "outputId": "6f5e768c-91d9-48fc-b268-9fc60fee77b8"
      },
      "source": [
        "y_predB[y_pred_log != y_val,:]"
      ],
      "execution_count": 49,
      "outputs": [
        {
          "output_type": "execute_result",
          "data": {
            "text/plain": [
              "array([[1.        , 0.90136104, 0.29089899],\n",
              "       [2.        , 0.62972732, 0.47590849],\n",
              "       [2.        , 0.74714072, 0.42909465],\n",
              "       [1.        , 0.53364129, 0.49781746],\n",
              "       [2.        , 0.56505258, 0.49638695],\n",
              "       [1.        , 0.63722249, 0.47901519],\n",
              "       [2.        , 0.80689161, 0.4       ],\n",
              "       [0.        , 0.82035011, 0.35377331],\n",
              "       [2.        , 0.77619033, 0.4142463 ],\n",
              "       [0.        , 0.8129695 , 0.37853519],\n",
              "       [1.        , 0.99396963, 0.08137704],\n",
              "       [2.        , 0.75237577, 0.4330127 ],\n",
              "       [1.        , 0.97359564, 0.1280191 ],\n",
              "       [2.        , 0.66165447, 0.47256981],\n",
              "       [2.        , 0.94212298, 0.20360637],\n",
              "       [0.        , 0.47831467, 0.49888765],\n",
              "       [1.        , 0.69581724, 0.44899889],\n",
              "       [2.        , 0.51013213, 0.49972215],\n",
              "       [0.        , 0.54292517, 0.49714742],\n",
              "       [1.        , 0.56860583, 0.49355851],\n",
              "       [1.        , 0.821584  , 0.37853519],\n",
              "       [1.        , 0.48015999, 0.49972215],\n",
              "       [2.        , 0.75079642, 0.4330127 ],\n",
              "       [1.        , 0.42171108, 0.49408726],\n",
              "       [1.        , 0.61709874, 0.48095969],\n",
              "       [2.        , 0.48477927, 0.5       ],\n",
              "       [2.        , 0.9897387 , 0.08137704],\n",
              "       [2.        , 0.7278974 , 0.43863424],\n",
              "       [2.        , 0.70395959, 0.45220448],\n",
              "       [2.        , 0.94048321, 0.23120458],\n",
              "       [2.        , 0.8969207 , 0.30439375],\n",
              "       [1.        , 0.63893149, 0.47590849],\n",
              "       [1.        , 0.93547875, 0.23748684],\n",
              "       [1.        , 0.62908892, 0.48095969],\n",
              "       [0.        , 0.44297721, 0.49507575],\n",
              "       [0.        , 0.76787735, 0.40966111],\n",
              "       [1.        , 0.89903941, 0.28134597],\n",
              "       [2.        , 0.65882227, 0.47256981],\n",
              "       [2.        , 0.77596193, 0.41647996],\n",
              "       [2.        , 0.88928026, 0.31699982],\n",
              "       [0.        , 0.93818811, 0.21092389],\n",
              "       [2.        , 0.99998808, 0.        ],\n",
              "       [2.        , 0.60182694, 0.48848974],\n",
              "       [0.        , 0.51994833, 0.49972215],\n",
              "       [0.        , 0.66630307, 0.46517619],\n",
              "       [2.        , 0.84549484, 0.35041246],\n",
              "       [0.        , 0.73094307, 0.4404417 ],\n",
              "       [2.        , 0.57842397, 0.48989795],\n",
              "       [1.        , 0.56265994, 0.49811868],\n",
              "       [1.        , 0.70658078, 0.4552899 ],\n",
              "       [1.        , 0.84684574, 0.35041246],\n",
              "       [0.        , 0.52317211, 0.49909919],\n",
              "       [2.        , 0.78254072, 0.40966111],\n",
              "       [1.        , 0.71132805, 0.44395946],\n",
              "       [0.        , 0.64600344, 0.47256981],\n",
              "       [2.        , 0.61291814, 0.48455019],\n",
              "       [1.        , 0.97481984, 0.14      ],\n",
              "       [1.        , 0.48595861, 0.49989999],\n",
              "       [2.        , 0.62242842, 0.48538644],\n",
              "       [0.        , 0.67976221, 0.46249324],\n",
              "       [2.        , 0.62388553, 0.48280431],\n",
              "       [2.        , 0.92115743, 0.23748684],\n",
              "       [2.        , 0.55133779, 0.49459299],\n",
              "       [2.        , 0.58459165, 0.49121165],\n",
              "       [1.        , 0.9823052 , 0.1280191 ],\n",
              "       [1.        , 0.92871628, 0.24944383],\n",
              "       [1.        , 0.82684144, 0.35707142],\n",
              "       [1.        , 0.95038023, 0.21092389],\n",
              "       [1.        , 0.81960441, 0.36660606],\n",
              "       [1.        , 0.59578725, 0.49243161],\n",
              "       [1.        , 0.78902787, 0.40730824],\n",
              "       [1.        , 0.68616421, 0.46249324],\n",
              "       [2.        , 0.99926154, 0.        ],\n",
              "       [2.        , 0.98667645, 0.09949874],\n",
              "       [2.        , 0.55762218, 0.49553562],\n",
              "       [1.        , 0.98350215, 0.1280191 ],\n",
              "       [0.        , 0.82479932, 0.36348621],\n",
              "       [2.        , 0.99571641, 0.        ]])"
            ]
          },
          "metadata": {},
          "execution_count": 49
        }
      ]
    },
    {
      "cell_type": "code",
      "metadata": {
        "colab": {
          "base_uri": "https://localhost:8080/"
        },
        "id": "WhQd9Vp8KKnP",
        "outputId": "b11cbd1c-b218-4c2f-ff15-42bc01c3dc73"
      },
      "source": [
        "## Difficult & easy instances\n",
        "\n",
        "easy = np.argsort(y_predB[:,2])\n",
        "print(\"Accuracy in easy instances =\", accuracy_score(y_pred_log[easy[0:100]], y_val[easy[0:100]]))\n",
        "\n",
        "difficult = np.argsort(-y_predB[:,2])\n",
        "print(\"Accuracy in difficult instances =\", accuracy_score(y_pred_log[difficult[0:100]], y_val[difficult[0:100]]))"
      ],
      "execution_count": 50,
      "outputs": [
        {
          "output_type": "stream",
          "name": "stdout",
          "text": [
            "Accuracy in easy instances = 1.0\n",
            "Accuracy in difficult instances = 0.91\n"
          ]
        }
      ]
    },
    {
      "cell_type": "code",
      "metadata": {
        "colab": {
          "base_uri": "https://localhost:8080/",
          "height": 381
        },
        "id": "9h81QvLa_Dri",
        "outputId": "e2e68738-3fc5-41af-9c2f-ec838cd7d2ff"
      },
      "source": [
        "# show 10 random 'easy' images\n",
        "fig, axs = plt.subplots(2,5, figsize=(15, 6))\n",
        "fig.subplots_adjust(hspace = .2, wspace=.001)\n",
        "axs = axs.ravel()\n",
        "\n",
        "for i in range(10):\n",
        "    index = easy[i]\n",
        "    image = X_val[index,:].reshape(28,28)\n",
        "    axs[i].axis('off')\n",
        "    axs[i].imshow(image,cmap=\"Greys_r\")\n",
        "    "
      ],
      "execution_count": 51,
      "outputs": [
        {
          "output_type": "display_data",
          "data": {
            "image/png": "[encoded data removed]",
            "text/plain": [
              "<Figure size 1080x432 with 10 Axes>"
            ]
          },
          "metadata": {}
        }
      ]
    },
    {
      "cell_type": "code",
      "metadata": {
        "colab": {
          "base_uri": "https://localhost:8080/",
          "height": 381
        },
        "id": "pKgvgEhF_IyR",
        "outputId": "cacce3e4-cd8c-49d1-dede-bd5ff39964a8"
      },
      "source": [
        "# show 10 random 'difficult' images\n",
        "fig, axs = plt.subplots(2,5, figsize=(15, 6))\n",
        "fig.subplots_adjust(hspace = .2, wspace=.001)\n",
        "axs = axs.ravel()\n",
        "for i in range(10):\n",
        "    index = difficult[i]\n",
        "    image = X_val[index,:].reshape(28,28)\n",
        "    axs[i].axis('off')\n",
        "    axs[i].imshow(image,cmap=\"Greys_r\")\n",
        "    "
      ],
      "execution_count": 52,
      "outputs": [
        {
          "output_type": "display_data",
          "data": {
            "image/png": "[encoded data removed]",
            "text/plain": [
              "<Figure size 1080x432 with 10 Axes>"
            ]
          },
          "metadata": {}
        }
      ]
    },
    {
      "cell_type": "markdown",
      "metadata": {
        "id": "fkvFbCuCQVfL"
      },
      "source": [
        "## Commentary\n",
        "\n",
        "We can visually see the hard to identify digits here. One of the 0;s for example does not have closed loop and another one has a thick font that does not appear circular. We still see a good accuracy score on the difficult to identify cases at 94% but for this exercise we want to achieve 100% accuracy and not missify any classes."
      ]
    },
    {
      "cell_type": "markdown",
      "metadata": {
        "id": "NcshsLOGRPrk"
      },
      "source": [
        "## Summary"
      ]
    },
    {
      "cell_type": "markdown",
      "metadata": {
        "id": "XTc4pYKGRR60"
      },
      "source": [
        "Populate this section with all of your findings and comments fron the discussion with your peers."
      ]
    },
    {
      "cell_type": "code",
      "metadata": {
        "id": "aFgYMxR8p4_G"
      },
      "source": [
        "%%capture\n",
        "!wget -nc https://raw.githubusercontent.com/brpy/colab-pdf/master/colab_pdf.py\n",
        "from colab_pdf import colab_pdf\n",
        "colab_pdf('Etivity_1_Stephen_Quirke_20172257.ipynb')"
      ],
      "execution_count": 53,
      "outputs": []
    }
  ]
}